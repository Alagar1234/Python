{
 "cells": [
  {
   "cell_type": "code",
   "execution_count": null,
   "id": "eab6118a-d95d-4764-8733-d529422b33c4",
   "metadata": {},
   "outputs": [],
   "source": [
    "row=int(input(\"enter the values\"))\n",
    "for i in range(1,row+1):\n",
    "    for j in range(1,i+1):\n",
    "        print(j,end=\"\")\n",
    "    print()"
   ]
  },
  {
   "cell_type": "code",
   "execution_count": 3,
   "id": "587e5f68-cf6c-4483-a8f4-2fe787d98a4f",
   "metadata": {},
   "outputs": [
    {
     "name": "stdin",
     "output_type": "stream",
     "text": [
      "enter the values 8\n"
     ]
    },
    {
     "name": "stdout",
     "output_type": "stream",
     "text": [
      "1\n",
      "22\n",
      "333\n",
      "4444\n",
      "55555\n",
      "666666\n",
      "7777777\n",
      "88888888\n"
     ]
    }
   ],
   "source": [
    " row=int(input(\"enter the values\"))\n",
    "for i in range(1,row+1):\n",
    "    for j in range(1,i+1):\n",
    "        print(i,end=\"\")\n",
    "    print()"
   ]
  },
  {
   "cell_type": "code",
   "execution_count": 13,
   "id": "19b1b314-1ed1-470b-a94f-6cadc782e5c2",
   "metadata": {},
   "outputs": [
    {
     "name": "stdin",
     "output_type": "stream",
     "text": [
      "enter the values 5\n"
     ]
    },
    {
     "name": "stdout",
     "output_type": "stream",
     "text": [
      "*\n",
      "**\n",
      "***\n",
      "****\n",
      "*****\n",
      "******\n"
     ]
    }
   ],
   "source": [
    "row=int(input(\"enter the values\"))\n",
    "for i in range(0,row+1):\n",
    "    for j in range(1,i+1):\n",
    "        print(\"*\",end=\"\")\n",
    "    print('*')"
   ]
  },
  {
   "cell_type": "code",
   "execution_count": 15,
   "id": "ee918fe7-b854-4710-bc5f-3d07aa02b158",
   "metadata": {},
   "outputs": [
    {
     "name": "stdin",
     "output_type": "stream",
     "text": [
      "enter the values 8\n"
     ]
    },
    {
     "name": "stdout",
     "output_type": "stream",
     "text": [
      "-------* \n",
      "------* * \n",
      "-----* * * \n",
      "----* * * * \n",
      "---* * * * * \n",
      "--* * * * * * \n",
      "-* * * * * * * \n",
      "* * * * * * * * \n"
     ]
    }
   ],
   "source": [
    "row=int(input('enter the values'))\n",
    "a=row-1\n",
    "for i in range(0,row):\n",
    "    for j in range(0,a):\n",
    "        print(end='-')\n",
    "    a=a-1\n",
    "    for k in range(0,i+1):\n",
    "        print(\"*\",end=\" \")\n",
    "    print()"
   ]
  },
  {
   "cell_type": "code",
   "execution_count": null,
   "id": "c0fd09e3-6749-4f6e-968a-9ec57303e7bd",
   "metadata": {},
   "outputs": [],
   "source": [
    "for row in range(6):\n",
    "    for col in range(7):\n",
    "        if (row==0 and col%3!=0) or (row==1 and col%3==0) or (row-col==2) or (row+col==8):\n",
    "            print('*',end=\"\")\n",
    "        else:\n",
    "            print(end=\" \")\n",
    "        print()"
   ]
  },
  {
   "cell_type": "code",
   "execution_count": 17,
   "id": "33bcc33e-7836-4c9b-830e-e04a9a850377",
   "metadata": {},
   "outputs": [
    {
     "name": "stdout",
     "output_type": "stream",
     "text": [
      "[-1, 0, 0, 6, 7, 8, 9]\n"
     ]
    }
   ],
   "source": [
    "l=[0,9,8,7,6,0,-1]\n",
    "for i in range(len(l)):\n",
    "    for j in range(len(l)):\n",
    "        #print(l[i],\"<=\",l[j])\n",
    "        if l[i]<=l[j]:\n",
    "            l[i],l[j]=l[j],l[i]\n",
    "print(l)\n",
    "# print(l[0],\"minimum\")\n",
    "# print(l[-1],\"maximum\")"
   ]
  },
  {
   "cell_type": "code",
   "execution_count": 19,
   "id": "c06ca675-21d6-4567-94e8-32455eb2da1b",
   "metadata": {},
   "outputs": [
    {
     "name": "stdout",
     "output_type": "stream",
     "text": [
      "2\n",
      "4\n",
      "6\n",
      "8\n",
      "10\n",
      "12\n",
      "14\n",
      "16\n",
      "18\n",
      "20\n",
      "10\n"
     ]
    }
   ],
   "source": [
    "for i in range(1,11):\n",
    "        if i!=0:\n",
    "            print(i*2)\n",
    "print(i)"
   ]
  },
  {
   "cell_type": "code",
   "execution_count": 21,
   "id": "3fd2474a-e8c6-42a2-b1f7-773855f3c422",
   "metadata": {},
   "outputs": [
    {
     "name": "stdout",
     "output_type": "stream",
     "text": [
      "name\n",
      "year\n"
     ]
    }
   ],
   "source": [
    "child1 = {\"name\" : \"Emil\",\"year\" : 2004}\n",
    "for i in child1.keys():\n",
    "    print(i)"
   ]
  },
  {
   "cell_type": "code",
   "execution_count": 23,
   "id": "3df538eb-0037-4706-b9d7-8534d6e21c7b",
   "metadata": {},
   "outputs": [
    {
     "name": "stdin",
     "output_type": "stream",
     "text": [
      "enter the values 5\n"
     ]
    },
    {
     "name": "stdout",
     "output_type": "stream",
     "text": [
      "0\n",
      "1\n",
      "2\n",
      "3\n"
     ]
    }
   ],
   "source": [
    "a=int(input(\"enter the values\"))\n",
    "for i in range(a):\n",
    "    if i<=3:\n",
    "        print(i)"
   ]
  },
  {
   "cell_type": "code",
   "execution_count": 25,
   "id": "38aa4027-140a-4bf4-b8d5-5f4fb0036c78",
   "metadata": {},
   "outputs": [
    {
     "name": "stdout",
     "output_type": "stream",
     "text": [
      "[1, 2, 3, 4, 5]\n"
     ]
    }
   ],
   "source": [
    "k=[1,1,2,3,4,5,5]\n",
    "a=[]\n",
    "for i in (k):\n",
    "    if i not in a:\n",
    "        a.append(i)\n",
    "print(a)"
   ]
  },
  {
   "cell_type": "code",
   "execution_count": 27,
   "id": "4b7b53ec-3a07-4899-9b4e-2dfa7e7346e4",
   "metadata": {},
   "outputs": [
    {
     "name": "stdout",
     "output_type": "stream",
     "text": [
      "[1, 2, 3, 4, 5, 7, 45]\n"
     ]
    }
   ],
   "source": [
    "l = [1, 1, 2, 3, 4, 5, 5, 7, 45, 3]\n",
    "unique_list = []\n",
    "for item in l:\n",
    "    if item not in unique_list:\n",
    "        unique_list.append(item)\n",
    "\n",
    "print(unique_list)"
   ]
  },
  {
   "cell_type": "code",
   "execution_count": 29,
   "id": "f99d33a0-ee23-4414-a83b-c017d943bd83",
   "metadata": {},
   "outputs": [
    {
     "name": "stdout",
     "output_type": "stream",
     "text": [
      "4\n"
     ]
    }
   ],
   "source": [
    "k=[1,2,3,4,5,6]\n",
    "n=5\n",
    "for i,j in enumerate(k):\n",
    "    if n==j:\n",
    "        print(i)\n",
    "        \n",
    "    "
   ]
  },
  {
   "cell_type": "code",
   "execution_count": 6,
   "id": "d4d7f5b2-50b5-4de6-889a-0b5c2fbddf71",
   "metadata": {},
   "outputs": [
    {
     "name": "stdout",
     "output_type": "stream",
     "text": [
      "1\n",
      "2\n",
      "3\n",
      "4\n",
      "5\n"
     ]
    }
   ],
   "source": [
    "k=[1,2,3,4,5,6]\n",
    "n=0\n",
    "for i in k:\n",
    "    for j in range(i):\n",
    "        if i==5:\n",
    "             n+=1\n",
    "             print(n)"
   ]
  },
  {
   "cell_type": "code",
   "execution_count": null,
   "id": "33805d45-b56a-4667-9b60-bcaf436bc0fa",
   "metadata": {},
   "outputs": [],
   "source": []
  }
 ],
 "metadata": {
  "kernelspec": {
   "display_name": "Python [conda env:base] *",
   "language": "python",
   "name": "conda-base-py"
  },
  "language_info": {
   "codemirror_mode": {
    "name": "ipython",
    "version": 3
   },
   "file_extension": ".py",
   "mimetype": "text/x-python",
   "name": "python",
   "nbconvert_exporter": "python",
   "pygments_lexer": "ipython3",
   "version": "3.12.7"
  }
 },
 "nbformat": 4,
 "nbformat_minor": 5
}
