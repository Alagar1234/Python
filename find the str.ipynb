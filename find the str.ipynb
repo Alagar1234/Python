{
 "cells": [
  {
   "cell_type": "code",
   "execution_count": 3,
   "id": "eeb449da-f4cd-42c2-8eff-9b4cecc5c9b3",
   "metadata": {},
   "outputs": [
    {
     "data": {
      "text/plain": [
       "2"
      ]
     },
     "execution_count": 3,
     "metadata": {},
     "output_type": "execute_result"
    }
   ],
   "source": [
    "# Find the number of occurrences of 'H' in the given string without using the count method\n",
    "k = \"Hi,HellO,how are you\"\n",
    "a={}\n",
    "for i in k:\n",
    "    if i not in a:\n",
    "        a[i]=1\n",
    "    else:\n",
    "        a[i]=a[i]+1\n",
    "a[\"H\"]"
   ]
  },
  {
   "cell_type": "code",
   "execution_count": null,
   "id": "d9ac0a97-ecad-4951-a7b1-bf468567c535",
   "metadata": {},
   "outputs": [],
   "source": []
  }
 ],
 "metadata": {
  "kernelspec": {
   "display_name": "Python [conda env:base] *",
   "language": "python",
   "name": "conda-base-py"
  },
  "language_info": {
   "codemirror_mode": {
    "name": "ipython",
    "version": 3
   },
   "file_extension": ".py",
   "mimetype": "text/x-python",
   "name": "python",
   "nbconvert_exporter": "python",
   "pygments_lexer": "ipython3",
   "version": "3.12.7"
  }
 },
 "nbformat": 4,
 "nbformat_minor": 5
}
