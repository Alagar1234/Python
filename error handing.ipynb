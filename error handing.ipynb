{
 "cells": [
  {
   "cell_type": "markdown",
   "id": "10ae0622-9320-4142-8a16-6b0d71a94926",
   "metadata": {},
   "source": [
    "# Error Handling\n",
    "# key words\n",
    "# try,except,finally"
   ]
  },
  {
   "cell_type": "code",
   "execution_count": 10,
   "id": "e35f69f3-60f0-430f-b9e0-f57ca2ff6b04",
   "metadata": {},
   "outputs": [
    {
     "name": "stdout",
     "output_type": "stream",
     "text": [
      "B is a zero division Error\n"
     ]
    }
   ],
   "source": [
    "try:\n",
    "    a=10\n",
    "    b=0\n",
    "    print(a/b)\n",
    "except:\n",
    "    print(\"B is a zero division Error\")"
   ]
  },
  {
   "cell_type": "code",
   "execution_count": 30,
   "id": "ae618283-f260-460b-a8f6-d894922e7935",
   "metadata": {},
   "outputs": [
    {
     "name": "stdout",
     "output_type": "stream",
     "text": [
      "0\n"
     ]
    }
   ],
   "source": [
    "try:\n",
    "    a=10\n",
    "    print(b)\n",
    "except Exception as e:\n",
    "    print(e)"
   ]
  },
  {
   "cell_type": "code",
   "execution_count": 50,
   "id": "43f70c37-a540-47fc-a378-530cc9cf7a8a",
   "metadata": {},
   "outputs": [
    {
     "name": "stdout",
     "output_type": "stream",
     "text": [
      "5\n"
     ]
    }
   ],
   "source": [
    "l=[1,2,3,4,56]\n",
    "k=0\n",
    "for i in l:\n",
    "    k+=1\n",
    "print(k)"
   ]
  },
  {
   "cell_type": "code",
   "execution_count": 1,
   "id": "ac8caa48-b42a-4405-a376-7ebd58b06159",
   "metadata": {},
   "outputs": [
    {
     "name": "stdout",
     "output_type": "stream",
     "text": [
      "{1: 1}\n",
      "{1: 1, 2: 1}\n",
      "{1: 1, 2: 1, 3: 1}\n",
      "{1: 1, 2: 1, 3: 1, 4: 1}\n",
      "{1: 1, 2: 1, 3: 1, 4: 1, 56: 1}\n",
      "{1: 2, 2: 2, 3: 2, 4: 2, 56: 1, 6: 1}\n",
      "{1: 2, 2: 2, 3: 2, 4: 2, 56: 1, 6: 1, 8: 1}\n"
     ]
    },
    {
     "data": {
      "text/plain": [
       "{1: 2, 2: 2, 3: 2, 4: 2, 56: 1, 6: 1, 8: 1}"
      ]
     },
     "execution_count": 1,
     "metadata": {},
     "output_type": "execute_result"
    }
   ],
   "source": [
    "l=[1,2,3,4,56,1,2,3,4,6,8]\n",
    "k={}\n",
    "for i in l:\n",
    "    if i not in k:\n",
    "        k[i]=1\n",
    "        print(k)\n",
    "    else:\n",
    "        k[i]=k[i]+1\n",
    "k"
   ]
  },
  {
   "cell_type": "code",
   "execution_count": null,
   "id": "c4fb63f7-4f80-4ebe-bba9-1a4d16ea4bf4",
   "metadata": {},
   "outputs": [],
   "source": []
  }
 ],
 "metadata": {
  "kernelspec": {
   "display_name": "Python [conda env:base] *",
   "language": "python",
   "name": "conda-base-py"
  },
  "language_info": {
   "codemirror_mode": {
    "name": "ipython",
    "version": 3
   },
   "file_extension": ".py",
   "mimetype": "text/x-python",
   "name": "python",
   "nbconvert_exporter": "python",
   "pygments_lexer": "ipython3",
   "version": "3.12.7"
  }
 },
 "nbformat": 4,
 "nbformat_minor": 5
}
