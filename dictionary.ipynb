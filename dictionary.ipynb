{
 "cells": [
  {
   "cell_type": "code",
   "execution_count": 23,
   "id": "d0f1f194-cf14-454a-9d1f-5720c96eb416",
   "metadata": {},
   "outputs": [
    {
     "name": "stdout",
     "output_type": "stream",
     "text": [
      "{'DSA': 90, '.net': 80, 'Python': 85}\n",
      "<class 'dict'>\n",
      "dict_keys(['DSA', '.net', 'Python'])\n",
      "dict_values([90, 80, 85])\n"
     ]
    }
   ],
   "source": [
    "alagar = {\"DSA\":90,\".net\":80,\"Python\":85}\n",
    "print(alagar)\n",
    "print(type(alagar))\n",
    "alagar[\".net\"]\n",
    "print(alagar.keys())\n",
    "print(alagar.values())"
   ]
  },
  {
   "cell_type": "code",
   "execution_count": 33,
   "id": "7aa6d790-b005-4fda-8620-0a79a3df43cc",
   "metadata": {},
   "outputs": [
    {
     "name": "stdout",
     "output_type": "stream",
     "text": [
      "[2, 5, 6, 16, 7, 8]\n",
      "<class 'list'>\n"
     ]
    }
   ],
   "source": [
    "l=(2,5,6,7,8)\n",
    "t=list(l)\n",
    "t.insert(3,16)\n",
    "print(t)\n",
    "l1=tuple(t)\n",
    "print(type(t))"
   ]
  },
  {
   "cell_type": "code",
   "execution_count": 39,
   "id": "9f862989-cf31-4834-8b6f-99215fe23cd3",
   "metadata": {},
   "outputs": [
    {
     "data": {
      "text/plain": [
       "{'name': 'alagar', 'Age': 22, 'department': 'EEE'}"
      ]
     },
     "execution_count": 39,
     "metadata": {},
     "output_type": "execute_result"
    }
   ],
   "source": [
    "d={\"name\":\"alagar\",\"Age\":22}\n",
    "d[\"department\"]=\"EEE\"\n",
    "d"
   ]
  },
  {
   "cell_type": "code",
   "execution_count": null,
   "id": "72d5d2c6-6e1b-4d48-b148-28fe917f17c4",
   "metadata": {},
   "outputs": [],
   "source": [
    "\n"
   ]
  }
 ],
 "metadata": {
  "kernelspec": {
   "display_name": "Python [conda env:base] *",
   "language": "python",
   "name": "conda-base-py"
  },
  "language_info": {
   "codemirror_mode": {
    "name": "ipython",
    "version": 3
   },
   "file_extension": ".py",
   "mimetype": "text/x-python",
   "name": "python",
   "nbconvert_exporter": "python",
   "pygments_lexer": "ipython3",
   "version": "3.12.7"
  }
 },
 "nbformat": 4,
 "nbformat_minor": 5
}
